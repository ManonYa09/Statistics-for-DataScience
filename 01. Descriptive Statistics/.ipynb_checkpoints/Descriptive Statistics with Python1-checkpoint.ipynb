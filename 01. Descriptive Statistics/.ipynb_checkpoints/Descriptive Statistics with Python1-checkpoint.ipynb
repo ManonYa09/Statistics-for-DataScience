{
 "cells": [
  {
   "cell_type": "markdown",
   "metadata": {},
   "source": [
    "# Descriptive Statistics with Python\n"
   ]
  },
  {
   "cell_type": "markdown",
   "metadata": {},
   "source": [
    "## Table of Contents\n",
    "\n",
    "1. Measures of Central tendency\n",
    "2. Measures of Dispersion\n",
    "3. Measures of Position\n"
   ]
  },
  {
   "cell_type": "markdown",
   "metadata": {},
   "source": [
    "```py\n",
    "list1 = [20, 35, 30]\n",
    "list2 = [10 25,55]\n",
    "list3 = [5, 10, 75]\n",
    "```"
   ]
  },
  {
   "cell_type": "code",
   "execution_count": 6,
   "metadata": {},
   "outputs": [],
   "source": [
    "list1 = [25, 35, 30]\n",
    "list2 = [10, 25,55]\n",
    "list3 = [5, 10, 75]"
   ]
  },
  {
   "cell_type": "code",
   "execution_count": 7,
   "metadata": {},
   "outputs": [
    {
     "data": {
      "text/plain": [
       "30.0"
      ]
     },
     "execution_count": 7,
     "metadata": {},
     "output_type": "execute_result"
    }
   ],
   "source": [
    "sum(list1) / len(list1)"
   ]
  },
  {
   "cell_type": "code",
   "execution_count": 5,
   "metadata": {},
   "outputs": [
    {
     "data": {
      "text/plain": [
       "30.0"
      ]
     },
     "execution_count": 5,
     "metadata": {},
     "output_type": "execute_result"
    }
   ],
   "source": [
    "sum(list2) / len(list2)"
   ]
  },
  {
   "cell_type": "code",
   "execution_count": 4,
   "metadata": {},
   "outputs": [
    {
     "data": {
      "text/plain": [
       "30.0"
      ]
     },
     "execution_count": 4,
     "metadata": {},
     "output_type": "execute_result"
    }
   ],
   "source": [
    "sum(list3) / len(list3)"
   ]
  },
  {
   "cell_type": "markdown",
   "metadata": {},
   "source": [
    "### 1. Measures of central tendency \n",
    "**Measures of central tendency** Is a single value that represent the center point of a dataset. This value can also be referred to as `the central location` of a dataset.\n",
    "\n",
    "#### Mean \n",
    "- The mean represent the average value of the dataset.\n",
    "- The most common measure of central tendency is the mean.\n",
    "- The mean can be used for both continuous and discrete numeric data.\n",
    "##### When to use Mean?\n",
    "- When the distribution of data is symmertrical and there are no outliers.\n",
    "- Distribution is Symmetrical\n",
    "\n",
    "**Symmertrical**\n",
    "<img src=\"Photos/Symmertrical Distribution.png.\" alt=\"Control Structure\" width=\"70%\" style=\"display: block; margin: 0 auto;\">\n",
    "\n",
    "[Details](https://www.abs.gov.au/statistics/understanding-statistics/statistical-terms-and-concepts/measures-central-tendency#:~:text=There%20are%20three%20main%20measures,central%20value%20in%20the%20distribution.)\n",
    "##### Limitations of the mean\n",
    "\n",
    "    The mean cannot be calculated for `categorical data`, as the values cannot be summed.\n",
    "\n",
    "    As the mean includes every value in the distribution the mean is influenced by outliers and skewed distributions.\n",
    "\n",
    "#### Median \n",
    "- Median is the number which divides the dataset into two equal halves.\n",
    "##### When to use Median?\n",
    "- The median is less affected by outliers and **skewed** data than the mean and is usually the preferred measure of central tendency when the distribution is not symmetrical. \n",
    "\n",
    "**Skewed Distribution**\n",
    "\n",
    "<img src=\"Photos/Skewed distribution.png\" alt=\"Control Structure\" width=\"75%\" style=\"display: block; margin: 0 auto;\">\n",
    "\n",
    "##### Limitation of the median\n",
    "The median cannot be identified for categorical nominal data, as it cannot be logically ordered.\n",
    "\n",
    "\n",
    "#### Mode \n",
    "The mode is the most coommly occurring value in a distribution.\n",
    "###### Advantage of the mode\n",
    "The mode has an advantage over the median and the mean as it can be found for both numerical and categorical (non-numerical) data.\n"
   ]
  },
  {
   "cell_type": "code",
   "execution_count": 8,
   "metadata": {},
   "outputs": [],
   "source": [
    "import pandas as pd"
   ]
  },
  {
   "cell_type": "code",
   "execution_count": 9,
   "metadata": {},
   "outputs": [],
   "source": [
    "df = pd.read_csv('education_districtwise.csv')"
   ]
  },
  {
   "cell_type": "code",
   "execution_count": 13,
   "metadata": {},
   "outputs": [
    {
     "data": {
      "text/html": [
       "<div>\n",
       "<style scoped>\n",
       "    .dataframe tbody tr th:only-of-type {\n",
       "        vertical-align: middle;\n",
       "    }\n",
       "\n",
       "    .dataframe tbody tr th {\n",
       "        vertical-align: top;\n",
       "    }\n",
       "\n",
       "    .dataframe thead th {\n",
       "        text-align: right;\n",
       "    }\n",
       "</style>\n",
       "<table border=\"1\" class=\"dataframe\">\n",
       "  <thead>\n",
       "    <tr style=\"text-align: right;\">\n",
       "      <th></th>\n",
       "      <th>DISTNAME</th>\n",
       "      <th>STATNAME</th>\n",
       "      <th>BLOCKS</th>\n",
       "      <th>VILLAGES</th>\n",
       "      <th>CLUSTERS</th>\n",
       "      <th>TOTPOPULAT</th>\n",
       "      <th>OVERALL_LI</th>\n",
       "    </tr>\n",
       "  </thead>\n",
       "  <tbody>\n",
       "    <tr>\n",
       "      <th>0</th>\n",
       "      <td>DISTRICT32</td>\n",
       "      <td>STATE1</td>\n",
       "      <td>13</td>\n",
       "      <td>391</td>\n",
       "      <td>104</td>\n",
       "      <td>875564.0</td>\n",
       "      <td>66.92</td>\n",
       "    </tr>\n",
       "    <tr>\n",
       "      <th>1</th>\n",
       "      <td>DISTRICT649</td>\n",
       "      <td>STATE1</td>\n",
       "      <td>18</td>\n",
       "      <td>678</td>\n",
       "      <td>144</td>\n",
       "      <td>1015503.0</td>\n",
       "      <td>66.93</td>\n",
       "    </tr>\n",
       "    <tr>\n",
       "      <th>2</th>\n",
       "      <td>DISTRICT229</td>\n",
       "      <td>STATE1</td>\n",
       "      <td>8</td>\n",
       "      <td>94</td>\n",
       "      <td>65</td>\n",
       "      <td>1269751.0</td>\n",
       "      <td>71.21</td>\n",
       "    </tr>\n",
       "    <tr>\n",
       "      <th>3</th>\n",
       "      <td>DISTRICT259</td>\n",
       "      <td>STATE1</td>\n",
       "      <td>13</td>\n",
       "      <td>523</td>\n",
       "      <td>104</td>\n",
       "      <td>735753.0</td>\n",
       "      <td>57.98</td>\n",
       "    </tr>\n",
       "    <tr>\n",
       "      <th>4</th>\n",
       "      <td>DISTRICT486</td>\n",
       "      <td>STATE1</td>\n",
       "      <td>8</td>\n",
       "      <td>359</td>\n",
       "      <td>64</td>\n",
       "      <td>570060.0</td>\n",
       "      <td>65.00</td>\n",
       "    </tr>\n",
       "    <tr>\n",
       "      <th>...</th>\n",
       "      <td>...</td>\n",
       "      <td>...</td>\n",
       "      <td>...</td>\n",
       "      <td>...</td>\n",
       "      <td>...</td>\n",
       "      <td>...</td>\n",
       "      <td>...</td>\n",
       "    </tr>\n",
       "    <tr>\n",
       "      <th>675</th>\n",
       "      <td>DISTRICT522</td>\n",
       "      <td>STATE29</td>\n",
       "      <td>37</td>\n",
       "      <td>876</td>\n",
       "      <td>137</td>\n",
       "      <td>5296396.0</td>\n",
       "      <td>78.05</td>\n",
       "    </tr>\n",
       "    <tr>\n",
       "      <th>676</th>\n",
       "      <td>DISTRICT498</td>\n",
       "      <td>STATE29</td>\n",
       "      <td>64</td>\n",
       "      <td>1458</td>\n",
       "      <td>230</td>\n",
       "      <td>4042191.0</td>\n",
       "      <td>56.06</td>\n",
       "    </tr>\n",
       "    <tr>\n",
       "      <th>677</th>\n",
       "      <td>DISTRICT343</td>\n",
       "      <td>STATE29</td>\n",
       "      <td>59</td>\n",
       "      <td>1117</td>\n",
       "      <td>216</td>\n",
       "      <td>3483648.0</td>\n",
       "      <td>65.05</td>\n",
       "    </tr>\n",
       "    <tr>\n",
       "      <th>678</th>\n",
       "      <td>DISTRICT130</td>\n",
       "      <td>STATE29</td>\n",
       "      <td>51</td>\n",
       "      <td>993</td>\n",
       "      <td>211</td>\n",
       "      <td>3522644.0</td>\n",
       "      <td>66.16</td>\n",
       "    </tr>\n",
       "    <tr>\n",
       "      <th>679</th>\n",
       "      <td>DISTRICT341</td>\n",
       "      <td>STATE29</td>\n",
       "      <td>41</td>\n",
       "      <td>783</td>\n",
       "      <td>185</td>\n",
       "      <td>2798214.0</td>\n",
       "      <td>65.46</td>\n",
       "    </tr>\n",
       "  </tbody>\n",
       "</table>\n",
       "<p>680 rows × 7 columns</p>\n",
       "</div>"
      ],
      "text/plain": [
       "        DISTNAME STATNAME  BLOCKS  VILLAGES  CLUSTERS  TOTPOPULAT  OVERALL_LI\n",
       "0     DISTRICT32   STATE1      13       391       104    875564.0       66.92\n",
       "1    DISTRICT649   STATE1      18       678       144   1015503.0       66.93\n",
       "2    DISTRICT229   STATE1       8        94        65   1269751.0       71.21\n",
       "3    DISTRICT259   STATE1      13       523       104    735753.0       57.98\n",
       "4    DISTRICT486   STATE1       8       359        64    570060.0       65.00\n",
       "..           ...      ...     ...       ...       ...         ...         ...\n",
       "675  DISTRICT522  STATE29      37       876       137   5296396.0       78.05\n",
       "676  DISTRICT498  STATE29      64      1458       230   4042191.0       56.06\n",
       "677  DISTRICT343  STATE29      59      1117       216   3483648.0       65.05\n",
       "678  DISTRICT130  STATE29      51       993       211   3522644.0       66.16\n",
       "679  DISTRICT341  STATE29      41       783       185   2798214.0       65.46\n",
       "\n",
       "[680 rows x 7 columns]"
      ]
     },
     "execution_count": 13,
     "metadata": {},
     "output_type": "execute_result"
    }
   ],
   "source": [
    "df"
   ]
  },
  {
   "cell_type": "code",
   "execution_count": 15,
   "metadata": {},
   "outputs": [
    {
     "data": {
      "text/plain": [
       "BLOCKS\n",
       "6     79\n",
       "5     59\n",
       "7     53\n",
       "8     51\n",
       "9     50\n",
       "4     50\n",
       "3     44\n",
       "10    42\n",
       "11    34\n",
       "15    22\n",
       "12    21\n",
       "13    18\n",
       "14    18\n",
       "17    16\n",
       "2     15\n",
       "18    14\n",
       "19    12\n",
       "20    12\n",
       "16    12\n",
       "1      7\n",
       "22     6\n",
       "21     4\n",
       "23     3\n",
       "25     3\n",
       "51     2\n",
       "30     2\n",
       "46     2\n",
       "57     2\n",
       "64     2\n",
       "37     2\n",
       "24     2\n",
       "36     2\n",
       "50     2\n",
       "27     2\n",
       "33     1\n",
       "59     1\n",
       "52     1\n",
       "66     1\n",
       "63     1\n",
       "54     1\n",
       "56     1\n",
       "31     1\n",
       "42     1\n",
       "48     1\n",
       "43     1\n",
       "34     1\n",
       "38     1\n",
       "40     1\n",
       "41     1\n",
       "Name: count, dtype: int64"
      ]
     },
     "execution_count": 15,
     "metadata": {},
     "output_type": "execute_result"
    }
   ],
   "source": [
    "df['BLOCKS'].value_counts()"
   ]
  },
  {
   "cell_type": "code",
   "execution_count": 16,
   "metadata": {},
   "outputs": [
    {
     "data": {
      "text/plain": [
       "0    6\n",
       "Name: BLOCKS, dtype: int64"
      ]
     },
     "execution_count": 16,
     "metadata": {},
     "output_type": "execute_result"
    }
   ],
   "source": [
    "df['BLOCKS'].mode()"
   ]
  },
  {
   "cell_type": "code",
   "execution_count": 14,
   "metadata": {},
   "outputs": [
    {
     "data": {
      "text/plain": [
       "0    STATE21\n",
       "Name: STATNAME, dtype: object"
      ]
     },
     "execution_count": 14,
     "metadata": {},
     "output_type": "execute_result"
    }
   ],
   "source": [
    "df['STATNAME'].mode()"
   ]
  },
  {
   "cell_type": "code",
   "execution_count": 18,
   "metadata": {},
   "outputs": [
    {
     "data": {
      "text/plain": [
       "STATNAME\n",
       "STATE8      1\n",
       "STATE36     1\n",
       "STATE19     1\n",
       "STATE30     2\n",
       "STATE10     2\n",
       "STATE11     3\n",
       "STATE32     4\n",
       "STATE18     4\n",
       "STATE12     8\n",
       "STATE14     8\n",
       "STATE2      9\n",
       "STATE35     9\n",
       "STATE29    10\n",
       "STATE4     11\n",
       "STATE27    11\n",
       "STATE16    12\n",
       "STATE15    13\n",
       "STATE7     13\n",
       "STATE5     14\n",
       "STATE3     20\n",
       "STATE25    21\n",
       "STATE34    21\n",
       "STATE26    22\n",
       "STATE1     22\n",
       "STATE23    24\n",
       "STATE31    27\n",
       "STATE33    27\n",
       "STATE6     30\n",
       "STATE24    30\n",
       "STATE13    33\n",
       "STATE9     33\n",
       "STATE20    34\n",
       "STATE17    36\n",
       "STATE28    38\n",
       "STATE22    51\n",
       "STATE21    75\n",
       "Name: count, dtype: int64"
      ]
     },
     "execution_count": 18,
     "metadata": {},
     "output_type": "execute_result"
    }
   ],
   "source": [
    "df['STATNAME'].value_counts().sort_values()"
   ]
  },
  {
   "cell_type": "code",
   "execution_count": 17,
   "metadata": {},
   "outputs": [
    {
     "data": {
      "text/plain": [
       "STATNAME\n",
       "STATE8      1\n",
       "STATE36     1\n",
       "STATE19     1\n",
       "STATE10     2\n",
       "STATE30     2\n",
       "STATE11     3\n",
       "STATE18     4\n",
       "STATE32     4\n",
       "STATE12     8\n",
       "STATE14     8\n",
       "STATE35     9\n",
       "STATE2      9\n",
       "STATE29    10\n",
       "STATE27    11\n",
       "STATE4     11\n",
       "STATE16    12\n",
       "STATE15    13\n",
       "STATE7     13\n",
       "STATE5     14\n",
       "STATE3     20\n",
       "STATE25    21\n",
       "STATE34    21\n",
       "STATE1     22\n",
       "STATE26    22\n",
       "STATE23    24\n",
       "STATE31    27\n",
       "STATE33    27\n",
       "STATE24    30\n",
       "STATE6     30\n",
       "STATE9     33\n",
       "STATE13    33\n",
       "STATE20    34\n",
       "STATE17    36\n",
       "STATE28    38\n",
       "STATE22    51\n",
       "STATE21    75\n",
       "Name: count, dtype: int64"
      ]
     },
     "execution_count": 17,
     "metadata": {},
     "output_type": "execute_result"
    }
   ],
   "source": [
    "df['STATNAME'].value_counts(ascending=True)"
   ]
  },
  {
   "cell_type": "markdown",
   "metadata": {},
   "source": [
    "### 2. Measures Of Dispersion\n",
    "let we describe the spread of our dataset, or the amount of variation in your data values. \n",
    "\n",
    "```py\n",
    "list1 = [20, 35, 30]\n",
    "list2 = [10 25,55]\n",
    "list3 = [5, 10, 75]\n",
    "```"
   ]
  },
  {
   "cell_type": "markdown",
   "metadata": {},
   "source": [
    "#### Range\n",
    "The **range** is the difference between the largest and smallest value in a dataset. \n",
    "\n",
    "#### Variance \n",
    "The average of the spuared difference of each data point from the mean.\n",
    "#### Standard Deviation\n",
    "Measures how spread out your values are from the mean of your dataset.\n",
    "\n",
    "    - Low, or small, standard deviation indicates data are clustered tightly around the mean, and high, or large, standard deviation indicates data are more spread out.\n",
    "<img src=\"Photos/photo_2023-11-11_10-46-48.jpg\" alt=\"Control Structure\" width=\"75%\" style=\"display: block; margin: 0 auto;\">"
   ]
  },
  {
   "cell_type": "markdown",
   "metadata": {},
   "source": [
    "**Exercise:** \n",
    "```py\n",
    "data = [56, 65, 74, 75, 76, 77, 80, 81, 91]\n",
    "```\n",
    "- Find Mean \n",
    "- Find Sum of Square (x-mean of population)\n",
    "- Find Population"
   ]
  },
  {
   "cell_type": "code",
   "execution_count": 21,
   "metadata": {},
   "outputs": [
    {
     "data": {
      "text/plain": [
       "10"
      ]
     },
     "execution_count": 21,
     "metadata": {},
     "output_type": "execute_result"
    }
   ],
   "source": [
    "max(list1)- min(list1)"
   ]
  },
  {
   "cell_type": "code",
   "execution_count": 22,
   "metadata": {},
   "outputs": [
    {
     "data": {
      "text/plain": [
       "45"
      ]
     },
     "execution_count": 22,
     "metadata": {},
     "output_type": "execute_result"
    }
   ],
   "source": [
    "max(list2)- min(list2)"
   ]
  },
  {
   "cell_type": "code",
   "execution_count": 23,
   "metadata": {},
   "outputs": [
    {
     "data": {
      "text/plain": [
       "70"
      ]
     },
     "execution_count": 23,
     "metadata": {},
     "output_type": "execute_result"
    }
   ],
   "source": [
    "max(list3)- min(list3)"
   ]
  },
  {
   "cell_type": "code",
   "execution_count": 27,
   "metadata": {},
   "outputs": [
    {
     "data": {
      "text/plain": [
       "0      66.92\n",
       "1      66.93\n",
       "2      71.21\n",
       "3      57.98\n",
       "4      65.00\n",
       "       ...  \n",
       "675    78.05\n",
       "676    56.06\n",
       "677    65.05\n",
       "678    66.16\n",
       "679    65.46\n",
       "Name: OVERALL_LI, Length: 680, dtype: float64"
      ]
     },
     "execution_count": 27,
     "metadata": {},
     "output_type": "execute_result"
    }
   ],
   "source": [
    "df['OVERALL_LI']"
   ]
  },
  {
   "cell_type": "code",
   "execution_count": 28,
   "metadata": {},
   "outputs": [
    {
     "data": {
      "text/plain": [
       "73.39518927444796"
      ]
     },
     "execution_count": 28,
     "metadata": {},
     "output_type": "execute_result"
    }
   ],
   "source": [
    "df['OVERALL_LI'].mean()"
   ]
  },
  {
   "cell_type": "code",
   "execution_count": 25,
   "metadata": {},
   "outputs": [
    {
     "data": {
      "text/plain": [
       "10.098460413782469"
      ]
     },
     "execution_count": 25,
     "metadata": {},
     "output_type": "execute_result"
    }
   ],
   "source": [
    "## std for sample\n",
    "df['OVERALL_LI'].std()"
   ]
  },
  {
   "cell_type": "code",
   "execution_count": 26,
   "metadata": {},
   "outputs": [
    {
     "data": {
      "text/plain": [
       "10.090493185391267"
      ]
     },
     "execution_count": 26,
     "metadata": {},
     "output_type": "execute_result"
    }
   ],
   "source": [
    "## std for population\n",
    "df['OVERALL_LI'].std(ddof=0)"
   ]
  },
  {
   "cell_type": "code",
   "execution_count": 29,
   "metadata": {},
   "outputs": [
    {
     "data": {
      "text/plain": [
       "count    634.000000\n",
       "mean      73.395189\n",
       "std       10.098460\n",
       "min       37.220000\n",
       "25%       66.437500\n",
       "50%       73.490000\n",
       "75%       80.815000\n",
       "max       98.760000\n",
       "Name: OVERALL_LI, dtype: float64"
      ]
     },
     "execution_count": 29,
     "metadata": {},
     "output_type": "execute_result"
    }
   ],
   "source": [
    "df['OVERALL_LI'].describe()"
   ]
  },
  {
   "cell_type": "code",
   "execution_count": 30,
   "metadata": {},
   "outputs": [],
   "source": [
    "import matplotlib.pyplot as plt\n",
    "import seaborn as sns"
   ]
  },
  {
   "cell_type": "code",
   "execution_count": 36,
   "metadata": {},
   "outputs": [
    {
     "data": {
      "image/png": "[encoded data removed]",
      "text/plain": [
       "<Figure size 3000x1200 with 1 Axes>"
      ]
     },
     "metadata": {},
     "output_type": "display_data"
    }
   ],
   "source": [
    "fig, ax = plt.subplots(figsize = (10, 4), dpi = 300)\n",
    "sns.histplot(df['OVERALL_LI'])\n",
    "plt.show()"
   ]
  },
  {
   "cell_type": "code",
   "execution_count": 37,
   "metadata": {},
   "outputs": [
    {
     "data": {
      "text/plain": [
       "count    680.000000\n",
       "mean      10.760294\n",
       "std        9.585360\n",
       "min        1.000000\n",
       "25%        5.000000\n",
       "50%        8.000000\n",
       "75%       13.000000\n",
       "max       66.000000\n",
       "Name: BLOCKS, dtype: float64"
      ]
     },
     "execution_count": 37,
     "metadata": {},
     "output_type": "execute_result"
    }
   ],
   "source": [
    "df['BLOCKS'].describe()"
   ]
  },
  {
   "cell_type": "code",
   "execution_count": 39,
   "metadata": {},
   "outputs": [],
   "source": [
    "import numpy as np"
   ]
  },
  {
   "cell_type": "code",
   "execution_count": 42,
   "metadata": {},
   "outputs": [
    {
     "data": {
      "image/png": "[encoded data removed]",
      "text/plain": [
       "<Figure size 3000x1200 with 1 Axes>"
      ]
     },
     "metadata": {},
     "output_type": "display_data"
    }
   ],
   "source": [
    "fig, ax = plt.subplots(figsize = (10, 4), dpi = 300)\n",
    "ax.set_xticks(np.arange(0, 70, 5))\n",
    "ax.set_title('Block Distribution')\n",
    "sns.histplot(df['BLOCKS'])\n",
    "plt.show()"
   ]
  },
  {
   "cell_type": "code",
   "execution_count": 43,
   "metadata": {},
   "outputs": [
    {
     "data": {
      "text/html": [
       "<div>\n",
       "<style scoped>\n",
       "    .dataframe tbody tr th:only-of-type {\n",
       "        vertical-align: middle;\n",
       "    }\n",
       "\n",
       "    .dataframe tbody tr th {\n",
       "        vertical-align: top;\n",
       "    }\n",
       "\n",
       "    .dataframe thead th {\n",
       "        text-align: right;\n",
       "    }\n",
       "</style>\n",
       "<table border=\"1\" class=\"dataframe\">\n",
       "  <thead>\n",
       "    <tr style=\"text-align: right;\">\n",
       "      <th></th>\n",
       "      <th>DISTNAME</th>\n",
       "      <th>STATNAME</th>\n",
       "      <th>BLOCKS</th>\n",
       "      <th>VILLAGES</th>\n",
       "      <th>CLUSTERS</th>\n",
       "      <th>TOTPOPULAT</th>\n",
       "      <th>OVERALL_LI</th>\n",
       "    </tr>\n",
       "  </thead>\n",
       "  <tbody>\n",
       "    <tr>\n",
       "      <th>0</th>\n",
       "      <td>DISTRICT32</td>\n",
       "      <td>STATE1</td>\n",
       "      <td>13</td>\n",
       "      <td>391</td>\n",
       "      <td>104</td>\n",
       "      <td>875564.0</td>\n",
       "      <td>66.92</td>\n",
       "    </tr>\n",
       "    <tr>\n",
       "      <th>1</th>\n",
       "      <td>DISTRICT649</td>\n",
       "      <td>STATE1</td>\n",
       "      <td>18</td>\n",
       "      <td>678</td>\n",
       "      <td>144</td>\n",
       "      <td>1015503.0</td>\n",
       "      <td>66.93</td>\n",
       "    </tr>\n",
       "    <tr>\n",
       "      <th>2</th>\n",
       "      <td>DISTRICT229</td>\n",
       "      <td>STATE1</td>\n",
       "      <td>8</td>\n",
       "      <td>94</td>\n",
       "      <td>65</td>\n",
       "      <td>1269751.0</td>\n",
       "      <td>71.21</td>\n",
       "    </tr>\n",
       "    <tr>\n",
       "      <th>3</th>\n",
       "      <td>DISTRICT259</td>\n",
       "      <td>STATE1</td>\n",
       "      <td>13</td>\n",
       "      <td>523</td>\n",
       "      <td>104</td>\n",
       "      <td>735753.0</td>\n",
       "      <td>57.98</td>\n",
       "    </tr>\n",
       "    <tr>\n",
       "      <th>4</th>\n",
       "      <td>DISTRICT486</td>\n",
       "      <td>STATE1</td>\n",
       "      <td>8</td>\n",
       "      <td>359</td>\n",
       "      <td>64</td>\n",
       "      <td>570060.0</td>\n",
       "      <td>65.00</td>\n",
       "    </tr>\n",
       "  </tbody>\n",
       "</table>\n",
       "</div>"
      ],
      "text/plain": [
       "      DISTNAME STATNAME  BLOCKS  VILLAGES  CLUSTERS  TOTPOPULAT  OVERALL_LI\n",
       "0   DISTRICT32   STATE1      13       391       104    875564.0       66.92\n",
       "1  DISTRICT649   STATE1      18       678       144   1015503.0       66.93\n",
       "2  DISTRICT229   STATE1       8        94        65   1269751.0       71.21\n",
       "3  DISTRICT259   STATE1      13       523       104    735753.0       57.98\n",
       "4  DISTRICT486   STATE1       8       359        64    570060.0       65.00"
      ]
     },
     "execution_count": 43,
     "metadata": {},
     "output_type": "execute_result"
    }
   ],
   "source": [
    "df.head()"
   ]
  },
  {
   "cell_type": "code",
   "execution_count": 45,
   "metadata": {},
   "outputs": [
    {
     "data": {
      "text/plain": [
       "count    6.340000e+02\n",
       "mean     1.899024e+06\n",
       "std      1.547475e+06\n",
       "min      7.948000e+03\n",
       "25%      8.226940e+05\n",
       "50%      1.564392e+06\n",
       "75%      2.587520e+06\n",
       "max      1.105413e+07\n",
       "Name: TOTPOPULAT, dtype: float64"
      ]
     },
     "execution_count": 45,
     "metadata": {},
     "output_type": "execute_result"
    }
   ],
   "source": [
    "df['TOTPOPULAT'].describe()"
   ]
  },
  {
   "cell_type": "markdown",
   "metadata": {},
   "source": [
    "### 3. Measures of Position \n"
   ]
  },
  {
   "cell_type": "markdown",
   "metadata": {},
   "source": [
    "\n",
    "**Measures of Position**  let you determine the position of a value in relation to other values in a dataset.\n",
    "\n",
    "**Quartile** A quartile divides the values in a dataset into four equal parts. \n",
    "\n",
    "<img src=\"Photos/Three-Quartiles-Four-Quarters.png\" alt=\"Control Structure\" width=\"75%\" style=\"display: block; margin: 0 auto;\">"
   ]
  },
  {
   "cell_type": "markdown",
   "metadata": {},
   "source": [
    "**Percentile**\n",
    "\n",
    "A percentile is the value below which a percentage of data falls. Percentiles divide your data into 100 equal parts. Percentiles give the relative position or rank of a particular value in a dataset. \n",
    "\n",
    "<img src=\"Photos/Test-Score-Percentiles.png\" alt=\"Control Structure\" width=\"75%\" style=\"display: block; margin: 0 auto;\">"
   ]
  },
  {
   "cell_type": "code",
   "execution_count": 46,
   "metadata": {},
   "outputs": [
    {
     "data": {
      "text/plain": [
       "count    634.000000\n",
       "mean      73.395189\n",
       "std       10.098460\n",
       "min       37.220000\n",
       "25%       66.437500\n",
       "50%       73.490000\n",
       "75%       80.815000\n",
       "max       98.760000\n",
       "Name: OVERALL_LI, dtype: float64"
      ]
     },
     "execution_count": 46,
     "metadata": {},
     "output_type": "execute_result"
    }
   ],
   "source": [
    "df['OVERALL_LI'].describe()"
   ]
  },
  {
   "cell_type": "code",
   "execution_count": 49,
   "metadata": {},
   "outputs": [
    {
     "data": {
      "text/plain": [
       "0.00    37.220\n",
       "0.95    88.634\n",
       "Name: OVERALL_LI, dtype: float64"
      ]
     },
     "execution_count": 49,
     "metadata": {},
     "output_type": "execute_result"
    }
   ],
   "source": [
    "df['OVERALL_LI'].quantile([0, 0.95])"
   ]
  },
  {
   "cell_type": "code",
   "execution_count": 51,
   "metadata": {},
   "outputs": [
    {
     "data": {
      "text/plain": [
       "0.025    52.8365\n",
       "0.975    92.3465\n",
       "Name: OVERALL_LI, dtype: float64"
      ]
     },
     "execution_count": 51,
     "metadata": {},
     "output_type": "execute_result"
    }
   ],
   "source": [
    "df['OVERALL_LI'].quantile([0.025, 0.975])"
   ]
  },
  {
   "cell_type": "code",
   "execution_count": 48,
   "metadata": {},
   "outputs": [
    {
     "data": {
      "text/plain": [
       "0.0    37.220\n",
       "0.6    76.112\n",
       "Name: OVERALL_LI, dtype: float64"
      ]
     },
     "execution_count": 48,
     "metadata": {},
     "output_type": "execute_result"
    }
   ],
   "source": [
    "df['OVERALL_LI'].quantile([0, 0.6])"
   ]
  },
  {
   "cell_type": "code",
   "execution_count": 52,
   "metadata": {},
   "outputs": [
    {
     "data": {
      "text/plain": [
       "count    680.000000\n",
       "mean      10.760294\n",
       "std        9.585360\n",
       "min        1.000000\n",
       "25%        5.000000\n",
       "50%        8.000000\n",
       "75%       13.000000\n",
       "max       66.000000\n",
       "Name: BLOCKS, dtype: float64"
      ]
     },
     "execution_count": 52,
     "metadata": {},
     "output_type": "execute_result"
    }
   ],
   "source": [
    "df['BLOCKS'].describe()"
   ]
  },
  {
   "cell_type": "code",
   "execution_count": 53,
   "metadata": {},
   "outputs": [
    {
     "data": {
      "text/plain": [
       "0.00     1.0\n",
       "0.95    25.0\n",
       "Name: BLOCKS, dtype: float64"
      ]
     },
     "execution_count": 53,
     "metadata": {},
     "output_type": "execute_result"
    }
   ],
   "source": [
    "df['BLOCKS'].quantile([0, 0.95])"
   ]
  },
  {
   "cell_type": "code",
   "execution_count": 58,
   "metadata": {},
   "outputs": [],
   "source": [
    "df_block = df[(df['BLOCKS']>=1) & (df['BLOCKS']<=25)]"
   ]
  },
  {
   "cell_type": "code",
   "execution_count": 59,
   "metadata": {},
   "outputs": [
    {
     "data": {
      "text/plain": [
       "<Axes: >"
      ]
     },
     "execution_count": 59,
     "metadata": {},
     "output_type": "execute_result"
    },
    {
     "data": {
      "image/png": "[encoded data removed]",
      "text/plain": [
       "<Figure size 640x480 with 1 Axes>"
      ]
     },
     "metadata": {},
     "output_type": "display_data"
    }
   ],
   "source": [
    "df_block['BLOCKS'].hist()"
   ]
  },
  {
   "cell_type": "code",
   "execution_count": 54,
   "metadata": {},
   "outputs": [
    {
     "data": {
      "text/plain": [
       "<Axes: >"
      ]
     },
     "execution_count": 54,
     "metadata": {},
     "output_type": "execute_result"
    },
    {
     "data": {
      "image/png": "[encoded data removed]",
      "text/plain": [
       "<Figure size 640x480 with 1 Axes>"
      ]
     },
     "metadata": {},
     "output_type": "display_data"
    }
   ],
   "source": [
    "df['BLOCKS'].hist()"
   ]
  },
  {
   "cell_type": "code",
   "execution_count": 79,
   "metadata": {},
   "outputs": [
    {
     "data": {
      "image/png": "[encoded data removed]",
      "text/plain": [
       "<Figure size 1600x600 with 2 Axes>"
      ]
     },
     "metadata": {},
     "output_type": "display_data"
    }
   ],
   "source": [
    "fig, ax = plt.subplots(1,2 ,figsize = (16, 6))\n",
    "\n",
    "sns.histplot(df['BLOCKS'], ax = ax[1], color = 'r')\n",
    "ax[1].set_title('Distribution of Block')\n",
    "ax[1].set_xticks(np.arange(0, 70, 5))\n",
    "\n",
    "sns.histplot(df_block['BLOCKS'], ax = ax[0], bins =25, color = 'b')\n",
    "ax[0].set_xticks(np.arange(0, 30, 2))\n",
    "plt.show()"
   ]
  },
  {
   "cell_type": "code",
   "execution_count": 70,
   "metadata": {},
   "outputs": [
    {
     "data": {
      "image/png": "[encoded data removed]",
      "text/plain": [
       "<Figure size 1600x800 with 2 Axes>"
      ]
     },
     "metadata": {},
     "output_type": "display_data"
    }
   ],
   "source": [
    "fig, ax = plt.subplots(1,2 ,figsize = (16, 8))\n",
    "ax[1].hist(df['BLOCKS'])\n",
    "ax[0].hist(df_block['BLOCKS'])\n",
    "plt.show()"
   ]
  },
  {
   "cell_type": "code",
   "execution_count": 60,
   "metadata": {},
   "outputs": [
    {
     "data": {
      "text/plain": [
       "<Axes: >"
      ]
     },
     "execution_count": 60,
     "metadata": {},
     "output_type": "execute_result"
    },
    {
     "data": {
      "image/png": "[encoded data removed]",
      "text/plain": [
       "<Figure size 640x480 with 1 Axes>"
      ]
     },
     "metadata": {},
     "output_type": "display_data"
    }
   ],
   "source": [
    "sns.boxplot(df['BLOCKS'])"
   ]
  },
  {
   "cell_type": "markdown",
   "metadata": {},
   "source": [
    "<img src=\"Photos/Box-Plot-and-Whisker-Plot-1.png\" alt=\"Control Structure\" width=\"75%\" style=\"display: block; margin: 0 auto;\">\n",
    "\n",
    "[Deials](https://www.scribbr.com/statistics/outliers/)"
   ]
  },
  {
   "cell_type": "markdown",
   "metadata": {},
   "source": [
    "### Outlier\n",
    "Outliers are values at the extreme ends of a dataset.\n",
    "\n",
    "Some outliers represent true values from natural variation in the population. Other outliers may result from incorrect data entry, equipment malfunctions, or other measurement errors.\n",
    "\n"
   ]
  },
  {
   "cell_type": "code",
   "execution_count": 80,
   "metadata": {},
   "outputs": [],
   "source": [
    "def outlier_detection(df):\n",
    "    \"\"\"\n",
    "    Detect potential outliers in a DataFrame using the Interquartile Range (IQR) method.\n",
    "\n",
    "    Parameters:\n",
    "    - df (pandas.DataFrame): The input DataFrame containing numerical data.\n",
    "\n",
    "    Returns:\n",
    "    - pandas.Series: A Series containing potential outlier values.\n",
    "    \n",
    "    The function calculates the first quartile (Q1), third quartile (Q3), and the Interquartile Range (IQR).\n",
    "    It then identifies potential outliers below the lower bound (Q1 - 1.5 * IQR) or above the upper bound (Q3 + 1.5 * IQR).\n",
    "    The result is a Series containing the values in the DataFrame that are potential outliers.\n",
    "\n",
    "    Example:\n",
    "    >>> data = {'Column1': [2, 4, 5, 7, 8, 9, 10, 11, 12, 50]}\n",
    "    >>> df = pd.DataFrame(data)\n",
    "    >>> outlier_detection(df['Column1'])\n",
    "    Returns:\n",
    "    9    50\n",
    "    Name: Column1, dtype: int64\n",
    "    \"\"\"\n",
    "    Q1 = df.quantile(0.25)\n",
    "    Q3 = df.quantile(0.75)\n",
    "    IQR = Q3 - Q1\n",
    "    upper_end = Q3 + 1.5 * IQR\n",
    "    lower_end = Q1 - 1.5 * IQR\n",
    "    outliers = df[(df > upper_end) | (df < lower_end)]\n",
    "    return outliers\n"
   ]
  },
  {
   "cell_type": "code",
   "execution_count": 87,
   "metadata": {},
   "outputs": [
    {
     "data": {
      "text/plain": [
       "count    680.000000\n",
       "mean      10.760294\n",
       "std        9.585360\n",
       "min        1.000000\n",
       "25%        5.000000\n",
       "50%        8.000000\n",
       "75%       13.000000\n",
       "max       66.000000\n",
       "Name: BLOCKS, dtype: float64"
      ]
     },
     "execution_count": 87,
     "metadata": {},
     "output_type": "execute_result"
    }
   ],
   "source": [
    "df['BLOCKS'].describe()"
   ]
  },
  {
   "cell_type": "code",
   "execution_count": 84,
   "metadata": {},
   "outputs": [
    {
     "data": {
      "text/plain": [
       "Index([209, 350, 352, 353, 354, 355, 360, 361, 362, 395, 407, 569, 570, 571,\n",
       "       572, 573, 574, 575, 576, 577, 578, 579, 580, 581, 670, 671, 672, 673,\n",
       "       675, 676, 677, 678, 679],\n",
       "      dtype='int64')"
      ]
     },
     "execution_count": 84,
     "metadata": {},
     "output_type": "execute_result"
    }
   ],
   "source": [
    "outlier_detection(df['BLOCKS']).index"
   ]
  },
  {
   "cell_type": "code",
   "execution_count": 85,
   "metadata": {},
   "outputs": [
    {
     "data": {
      "text/html": [
       "<div>\n",
       "<style scoped>\n",
       "    .dataframe tbody tr th:only-of-type {\n",
       "        vertical-align: middle;\n",
       "    }\n",
       "\n",
       "    .dataframe tbody tr th {\n",
       "        vertical-align: top;\n",
       "    }\n",
       "\n",
       "    .dataframe thead th {\n",
       "        text-align: right;\n",
       "    }\n",
       "</style>\n",
       "<table border=\"1\" class=\"dataframe\">\n",
       "  <thead>\n",
       "    <tr style=\"text-align: right;\">\n",
       "      <th></th>\n",
       "      <th>DISTNAME</th>\n",
       "      <th>STATNAME</th>\n",
       "      <th>BLOCKS</th>\n",
       "      <th>VILLAGES</th>\n",
       "      <th>CLUSTERS</th>\n",
       "      <th>TOTPOPULAT</th>\n",
       "      <th>OVERALL_LI</th>\n",
       "    </tr>\n",
       "  </thead>\n",
       "  <tbody>\n",
       "    <tr>\n",
       "      <th>209</th>\n",
       "      <td>DISTRICT208</td>\n",
       "      <td>STATE28</td>\n",
       "      <td>27</td>\n",
       "      <td>1534</td>\n",
       "      <td>251</td>\n",
       "      <td>5082868.0</td>\n",
       "      <td>58.26</td>\n",
       "    </tr>\n",
       "    <tr>\n",
       "      <th>350</th>\n",
       "      <td>DISTRICT254</td>\n",
       "      <td>STATE34</td>\n",
       "      <td>33</td>\n",
       "      <td>3142</td>\n",
       "      <td>286</td>\n",
       "      <td>7102430.0</td>\n",
       "      <td>67.53</td>\n",
       "    </tr>\n",
       "    <tr>\n",
       "      <th>352</th>\n",
       "      <td>DISTRICT329</td>\n",
       "      <td>STATE34</td>\n",
       "      <td>42</td>\n",
       "      <td>3175</td>\n",
       "      <td>349</td>\n",
       "      <td>7723663.0</td>\n",
       "      <td>77.15</td>\n",
       "    </tr>\n",
       "    <tr>\n",
       "      <th>353</th>\n",
       "      <td>DISTRICT252</td>\n",
       "      <td>STATE34</td>\n",
       "      <td>27</td>\n",
       "      <td>2227</td>\n",
       "      <td>232</td>\n",
       "      <td>5168488.0</td>\n",
       "      <td>75.58</td>\n",
       "    </tr>\n",
       "    <tr>\n",
       "      <th>354</th>\n",
       "      <td>DISTRICT388</td>\n",
       "      <td>STATE34</td>\n",
       "      <td>50</td>\n",
       "      <td>3042</td>\n",
       "      <td>338</td>\n",
       "      <td>10082852.0</td>\n",
       "      <td>84.95</td>\n",
       "    </tr>\n",
       "    <tr>\n",
       "      <th>355</th>\n",
       "      <td>DISTRICT269</td>\n",
       "      <td>STATE34</td>\n",
       "      <td>31</td>\n",
       "      <td>2301</td>\n",
       "      <td>64</td>\n",
       "      <td>5520389.0</td>\n",
       "      <td>82.55</td>\n",
       "    </tr>\n",
       "    <tr>\n",
       "      <th>360</th>\n",
       "      <td>DISTRICT13</td>\n",
       "      <td>STATE34</td>\n",
       "      <td>36</td>\n",
       "      <td>3803</td>\n",
       "      <td>349</td>\n",
       "      <td>8153176.0</td>\n",
       "      <td>78.57</td>\n",
       "    </tr>\n",
       "    <tr>\n",
       "      <th>361</th>\n",
       "      <td>DISTRICT561</td>\n",
       "      <td>STATE34</td>\n",
       "      <td>30</td>\n",
       "      <td>3963</td>\n",
       "      <td>61</td>\n",
       "      <td>5094238.0</td>\n",
       "      <td>87.66</td>\n",
       "    </tr>\n",
       "    <tr>\n",
       "      <th>362</th>\n",
       "      <td>DISTRICT230</td>\n",
       "      <td>STATE34</td>\n",
       "      <td>37</td>\n",
       "      <td>3430</td>\n",
       "      <td>324</td>\n",
       "      <td>5943300.0</td>\n",
       "      <td>79.04</td>\n",
       "    </tr>\n",
       "    <tr>\n",
       "      <th>395</th>\n",
       "      <td>DISTRICT406</td>\n",
       "      <td>STATE24</td>\n",
       "      <td>30</td>\n",
       "      <td>3238</td>\n",
       "      <td>384</td>\n",
       "      <td>2513895.0</td>\n",
       "      <td>63.98</td>\n",
       "    </tr>\n",
       "    <tr>\n",
       "      <th>407</th>\n",
       "      <td>DISTRICT118</td>\n",
       "      <td>STATE24</td>\n",
       "      <td>40</td>\n",
       "      <td>2460</td>\n",
       "      <td>338</td>\n",
       "      <td>3520151.0</td>\n",
       "      <td>71.88</td>\n",
       "    </tr>\n",
       "    <tr>\n",
       "      <th>569</th>\n",
       "      <td>DISTRICT437</td>\n",
       "      <td>STATE7</td>\n",
       "      <td>38</td>\n",
       "      <td>1521</td>\n",
       "      <td>397</td>\n",
       "      <td>2699471.0</td>\n",
       "      <td>62.30</td>\n",
       "    </tr>\n",
       "    <tr>\n",
       "      <th>570</th>\n",
       "      <td>DISTRICT411</td>\n",
       "      <td>STATE7</td>\n",
       "      <td>34</td>\n",
       "      <td>1366</td>\n",
       "      <td>243</td>\n",
       "      <td>2342868.0</td>\n",
       "      <td>59.49</td>\n",
       "    </tr>\n",
       "    <tr>\n",
       "      <th>571</th>\n",
       "      <td>DISTRICT73</td>\n",
       "      <td>STATE7</td>\n",
       "      <td>43</td>\n",
       "      <td>2197</td>\n",
       "      <td>332</td>\n",
       "      <td>4288113.0</td>\n",
       "      <td>67.70</td>\n",
       "    </tr>\n",
       "    <tr>\n",
       "      <th>572</th>\n",
       "      <td>DISTRICT213</td>\n",
       "      <td>STATE7</td>\n",
       "      <td>64</td>\n",
       "      <td>1447</td>\n",
       "      <td>445</td>\n",
       "      <td>5151549.0</td>\n",
       "      <td>71.35</td>\n",
       "    </tr>\n",
       "    <tr>\n",
       "      <th>573</th>\n",
       "      <td>DISTRICT204</td>\n",
       "      <td>STATE7</td>\n",
       "      <td>48</td>\n",
       "      <td>871</td>\n",
       "      <td>367</td>\n",
       "      <td>3934782.0</td>\n",
       "      <td>74.32</td>\n",
       "    </tr>\n",
       "    <tr>\n",
       "      <th>574</th>\n",
       "      <td>DISTRICT92</td>\n",
       "      <td>STATE7</td>\n",
       "      <td>50</td>\n",
       "      <td>927</td>\n",
       "      <td>414</td>\n",
       "      <td>4529009.0</td>\n",
       "      <td>74.37</td>\n",
       "    </tr>\n",
       "    <tr>\n",
       "      <th>575</th>\n",
       "      <td>DISTRICT87</td>\n",
       "      <td>STATE7</td>\n",
       "      <td>57</td>\n",
       "      <td>718</td>\n",
       "      <td>378</td>\n",
       "      <td>4889230.0</td>\n",
       "      <td>67.99</td>\n",
       "    </tr>\n",
       "    <tr>\n",
       "      <th>576</th>\n",
       "      <td>DISTRICT321</td>\n",
       "      <td>STATE7</td>\n",
       "      <td>56</td>\n",
       "      <td>957</td>\n",
       "      <td>371</td>\n",
       "      <td>3392764.0</td>\n",
       "      <td>63.53</td>\n",
       "    </tr>\n",
       "    <tr>\n",
       "      <th>577</th>\n",
       "      <td>DISTRICT113</td>\n",
       "      <td>STATE7</td>\n",
       "      <td>46</td>\n",
       "      <td>1044</td>\n",
       "      <td>307</td>\n",
       "      <td>2966082.0</td>\n",
       "      <td>69.15</td>\n",
       "    </tr>\n",
       "    <tr>\n",
       "      <th>578</th>\n",
       "      <td>DISTRICT108</td>\n",
       "      <td>STATE7</td>\n",
       "      <td>51</td>\n",
       "      <td>835</td>\n",
       "      <td>381</td>\n",
       "      <td>2884524.0</td>\n",
       "      <td>67.88</td>\n",
       "    </tr>\n",
       "    <tr>\n",
       "      <th>579</th>\n",
       "      <td>DISTRICT235</td>\n",
       "      <td>STATE7</td>\n",
       "      <td>54</td>\n",
       "      <td>904</td>\n",
       "      <td>308</td>\n",
       "      <td>4046601.0</td>\n",
       "      <td>61.13</td>\n",
       "    </tr>\n",
       "    <tr>\n",
       "      <th>580</th>\n",
       "      <td>DISTRICT58</td>\n",
       "      <td>STATE7</td>\n",
       "      <td>63</td>\n",
       "      <td>916</td>\n",
       "      <td>565</td>\n",
       "      <td>4083315.0</td>\n",
       "      <td>64.28</td>\n",
       "    </tr>\n",
       "    <tr>\n",
       "      <th>581</th>\n",
       "      <td>DISTRICT492</td>\n",
       "      <td>STATE7</td>\n",
       "      <td>66</td>\n",
       "      <td>1372</td>\n",
       "      <td>568</td>\n",
       "      <td>4170468.0</td>\n",
       "      <td>72.36</td>\n",
       "    </tr>\n",
       "    <tr>\n",
       "      <th>670</th>\n",
       "      <td>DISTRICT371</td>\n",
       "      <td>STATE29</td>\n",
       "      <td>52</td>\n",
       "      <td>1555</td>\n",
       "      <td>233</td>\n",
       "      <td>2737738.0</td>\n",
       "      <td>61.55</td>\n",
       "    </tr>\n",
       "    <tr>\n",
       "      <th>671</th>\n",
       "      <td>DISTRICT620</td>\n",
       "      <td>STATE29</td>\n",
       "      <td>36</td>\n",
       "      <td>822</td>\n",
       "      <td>129</td>\n",
       "      <td>2552073.0</td>\n",
       "      <td>62.25</td>\n",
       "    </tr>\n",
       "    <tr>\n",
       "      <th>672</th>\n",
       "      <td>DISTRICT477</td>\n",
       "      <td>STATE29</td>\n",
       "      <td>57</td>\n",
       "      <td>1045</td>\n",
       "      <td>203</td>\n",
       "      <td>3811738.0</td>\n",
       "      <td>64.87</td>\n",
       "    </tr>\n",
       "    <tr>\n",
       "      <th>673</th>\n",
       "      <td>DISTRICT599</td>\n",
       "      <td>STATE29</td>\n",
       "      <td>46</td>\n",
       "      <td>1214</td>\n",
       "      <td>184</td>\n",
       "      <td>3031877.0</td>\n",
       "      <td>62.53</td>\n",
       "    </tr>\n",
       "    <tr>\n",
       "      <th>675</th>\n",
       "      <td>DISTRICT522</td>\n",
       "      <td>STATE29</td>\n",
       "      <td>37</td>\n",
       "      <td>876</td>\n",
       "      <td>137</td>\n",
       "      <td>5296396.0</td>\n",
       "      <td>78.05</td>\n",
       "    </tr>\n",
       "    <tr>\n",
       "      <th>676</th>\n",
       "      <td>DISTRICT498</td>\n",
       "      <td>STATE29</td>\n",
       "      <td>64</td>\n",
       "      <td>1458</td>\n",
       "      <td>230</td>\n",
       "      <td>4042191.0</td>\n",
       "      <td>56.06</td>\n",
       "    </tr>\n",
       "    <tr>\n",
       "      <th>677</th>\n",
       "      <td>DISTRICT343</td>\n",
       "      <td>STATE29</td>\n",
       "      <td>59</td>\n",
       "      <td>1117</td>\n",
       "      <td>216</td>\n",
       "      <td>3483648.0</td>\n",
       "      <td>65.05</td>\n",
       "    </tr>\n",
       "    <tr>\n",
       "      <th>678</th>\n",
       "      <td>DISTRICT130</td>\n",
       "      <td>STATE29</td>\n",
       "      <td>51</td>\n",
       "      <td>993</td>\n",
       "      <td>211</td>\n",
       "      <td>3522644.0</td>\n",
       "      <td>66.16</td>\n",
       "    </tr>\n",
       "    <tr>\n",
       "      <th>679</th>\n",
       "      <td>DISTRICT341</td>\n",
       "      <td>STATE29</td>\n",
       "      <td>41</td>\n",
       "      <td>783</td>\n",
       "      <td>185</td>\n",
       "      <td>2798214.0</td>\n",
       "      <td>65.46</td>\n",
       "    </tr>\n",
       "  </tbody>\n",
       "</table>\n",
       "</div>"
      ],
      "text/plain": [
       "        DISTNAME STATNAME  BLOCKS  VILLAGES  CLUSTERS  TOTPOPULAT  OVERALL_LI\n",
       "209  DISTRICT208  STATE28      27      1534       251   5082868.0       58.26\n",
       "350  DISTRICT254  STATE34      33      3142       286   7102430.0       67.53\n",
       "352  DISTRICT329  STATE34      42      3175       349   7723663.0       77.15\n",
       "353  DISTRICT252  STATE34      27      2227       232   5168488.0       75.58\n",
       "354  DISTRICT388  STATE34      50      3042       338  10082852.0       84.95\n",
       "355  DISTRICT269  STATE34      31      2301        64   5520389.0       82.55\n",
       "360   DISTRICT13  STATE34      36      3803       349   8153176.0       78.57\n",
       "361  DISTRICT561  STATE34      30      3963        61   5094238.0       87.66\n",
       "362  DISTRICT230  STATE34      37      3430       324   5943300.0       79.04\n",
       "395  DISTRICT406  STATE24      30      3238       384   2513895.0       63.98\n",
       "407  DISTRICT118  STATE24      40      2460       338   3520151.0       71.88\n",
       "569  DISTRICT437   STATE7      38      1521       397   2699471.0       62.30\n",
       "570  DISTRICT411   STATE7      34      1366       243   2342868.0       59.49\n",
       "571   DISTRICT73   STATE7      43      2197       332   4288113.0       67.70\n",
       "572  DISTRICT213   STATE7      64      1447       445   5151549.0       71.35\n",
       "573  DISTRICT204   STATE7      48       871       367   3934782.0       74.32\n",
       "574   DISTRICT92   STATE7      50       927       414   4529009.0       74.37\n",
       "575   DISTRICT87   STATE7      57       718       378   4889230.0       67.99\n",
       "576  DISTRICT321   STATE7      56       957       371   3392764.0       63.53\n",
       "577  DISTRICT113   STATE7      46      1044       307   2966082.0       69.15\n",
       "578  DISTRICT108   STATE7      51       835       381   2884524.0       67.88\n",
       "579  DISTRICT235   STATE7      54       904       308   4046601.0       61.13\n",
       "580   DISTRICT58   STATE7      63       916       565   4083315.0       64.28\n",
       "581  DISTRICT492   STATE7      66      1372       568   4170468.0       72.36\n",
       "670  DISTRICT371  STATE29      52      1555       233   2737738.0       61.55\n",
       "671  DISTRICT620  STATE29      36       822       129   2552073.0       62.25\n",
       "672  DISTRICT477  STATE29      57      1045       203   3811738.0       64.87\n",
       "673  DISTRICT599  STATE29      46      1214       184   3031877.0       62.53\n",
       "675  DISTRICT522  STATE29      37       876       137   5296396.0       78.05\n",
       "676  DISTRICT498  STATE29      64      1458       230   4042191.0       56.06\n",
       "677  DISTRICT343  STATE29      59      1117       216   3483648.0       65.05\n",
       "678  DISTRICT130  STATE29      51       993       211   3522644.0       66.16\n",
       "679  DISTRICT341  STATE29      41       783       185   2798214.0       65.46"
      ]
     },
     "execution_count": 85,
     "metadata": {},
     "output_type": "execute_result"
    }
   ],
   "source": [
    "df.loc[outlier_detection(df['BLOCKS']).index]"
   ]
  },
  {
   "cell_type": "code",
   "execution_count": 81,
   "metadata": {},
   "outputs": [
    {
     "data": {
      "text/plain": [
       "0      13\n",
       "1      18\n",
       "2       8\n",
       "3      13\n",
       "4       8\n",
       "       ..\n",
       "675    37\n",
       "676    64\n",
       "677    59\n",
       "678    51\n",
       "679    41\n",
       "Name: BLOCKS, Length: 680, dtype: int64"
      ]
     },
     "execution_count": 81,
     "metadata": {},
     "output_type": "execute_result"
    }
   ],
   "source": [
    "df['BLOCKS']"
   ]
  },
  {
   "cell_type": "markdown",
   "metadata": {},
   "source": [
    "### About dataset\n",
    "This dataset represents a list of school districts in an anonymous country. The data includes district and state names, total population, and the literacy rate.\n",
    "\n",
    "The dataset contains:\n",
    "\n",
    "680 rows – each row is a different school district\n",
    "\n",
    "| Column Name | Type   | Description                                                |\n",
    "|-------------|--------|------------------------------------------------------------|\n",
    "| DISTNAME    | str    | The names of an anonymous country’s school districts      |\n",
    "| STATNAME    | str    | The names of an anonymous country’s states                 |\n",
    "| BLOCKS      | int64  | The number of blocks in the school district. Blocks are the smallest organizational structure in the education system of the anonymous country.                |\n",
    "| VILLAGES    | int64  | The number of villages in each district                    |\n",
    "| CLUSTERS    | int64  | The number of clusters in the school district              |\n",
    "| TOTPOPULAT  | float64  | The population for each district                           |\n",
    "| OVERALL_LI  | float64  | The literacy rate for each district                        |"
   ]
  }
 ],
 "metadata": {
  "kernelspec": {
   "display_name": "Python 3 (ipykernel)",
   "language": "python",
   "name": "python3"
  },
  "language_info": {
   "codemirror_mode": {
    "name": "ipython",
    "version": 3
   },
   "file_extension": ".py",
   "mimetype": "text/x-python",
   "name": "python",
   "nbconvert_exporter": "python",
   "pygments_lexer": "ipython3",
   "version": "3.11.5"
  }
 },
 "nbformat": 4,
 "nbformat_minor": 2
}
